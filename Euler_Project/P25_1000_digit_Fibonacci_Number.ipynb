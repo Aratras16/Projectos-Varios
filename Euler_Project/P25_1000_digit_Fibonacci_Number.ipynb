{
 "cells": [
  {
   "cell_type": "markdown",
   "metadata": {},
   "source": [
    "# 1000-digit Fibonacci Number"
   ]
  },
  {
   "cell_type": "markdown",
   "metadata": {},
   "source": [
    "The Fibonacci sequence is defined by the recurrence relation:\n",
    "$F_n = F_{n - 1} + F_{n - 2}$, where $F_1 = 1$ and $F_2 = 1$.\n",
    "Hence the first $12$ terms will be:\n",
    "$\\begin{align}\n",
    "F_1 &= 1\\\\\n",
    "F_2 &= 1\\\\\n",
    "F_3 &= 2\\\\\n",
    "F_4 &= 3\\\\\n",
    "F_5 &= 5\\\\\n",
    "F_6 &= 8\\\\\n",
    "F_7 &= 13\\\\\n",
    "F_8 &= 21\\\\\n",
    "F_9 &= 34\\\\\n",
    "F_{10} &= 55\\\\\n",
    "F_{11} &= 89\\\\\n",
    "F_{12} &= 144\n",
    "\\end{align}$\n",
    "The $12$ th term, $F_{12}$, is the first term to contain three digits.\n",
    "What is the index of the first term in the Fibonacci sequence to contain $1000$ digits?\n"
   ]
  },
  {
   "cell_type": "code",
   "execution_count": 3,
   "metadata": {},
   "outputs": [],
   "source": [
    "def Fibonacci(F_n):\n",
    "    if F_n == 1 or  F_n == 2:\n",
    "        return 1\n",
    "    else:\n",
    "        return Fibonacci(F_n-1)+Fibonacci(F_n-2)\n"
   ]
  },
  {
   "cell_type": "code",
   "execution_count": 9,
   "metadata": {},
   "outputs": [
    {
     "data": {
      "text/plain": [
       "144"
      ]
     },
     "execution_count": 9,
     "metadata": {},
     "output_type": "execute_result"
    }
   ],
   "source": [
    "Fibonacci(12)"
   ]
  },
  {
   "cell_type": "code",
   "execution_count": 4,
   "metadata": {},
   "outputs": [],
   "source": [
    "count = 1\n",
    "while fibonacci(count) < 10**999:\n",
    "    count += 1\n",
    "count"
   ]
  },
  {
   "cell_type": "markdown",
   "metadata": {},
   "source": [
    "But that method with the recursive version of Fibonacci is pretty slow. If we define Fibonacci numbers using a matrix we can make it faster.\n"
   ]
  },
  {
   "cell_type": "code",
   "execution_count": 11,
   "metadata": {},
   "outputs": [],
   "source": [
    "import numpy as np \n",
    "def matrix_power(matrix, n):\n",
    "        result = np.identity(2, dtype=object)  # Identity matrix\n",
    "        base = matrix\n",
    "\n",
    "        while n > 0:\n",
    "            if n % 2 == 1:\n",
    "                result = np.dot(result, base)\n",
    "            base = np.dot(base, base)\n",
    "            n //= 2\n",
    "\n",
    "        return result"
   ]
  },
  {
   "cell_type": "code",
   "execution_count": 13,
   "metadata": {},
   "outputs": [],
   "source": [
    "def fibonacci(n):\n",
    "    F = np.array([[1, 1], [1, 0]], dtype=object)  # Use dtype=object to avoid overflow\n",
    "    if n == 0:\n",
    "        return 0\n",
    "    else:\n",
    "        result_matrix = matrix_power(F, n-1)\n",
    "        return result_matrix[0][0]"
   ]
  },
  {
   "cell_type": "code",
   "execution_count": 14,
   "metadata": {},
   "outputs": [
    {
     "data": {
      "text/plain": [
       "144"
      ]
     },
     "execution_count": 14,
     "metadata": {},
     "output_type": "execute_result"
    }
   ],
   "source": [
    "fibonacci(12)\n"
   ]
  },
  {
   "cell_type": "code",
   "execution_count": 15,
   "metadata": {},
   "outputs": [
    {
     "data": {
      "text/plain": [
       "4782"
      ]
     },
     "execution_count": 15,
     "metadata": {},
     "output_type": "execute_result"
    }
   ],
   "source": [
    "count = 1\n",
    "while fibonacci(count) < 10**999:\n",
    "    count += 1\n",
    "count"
   ]
  }
 ],
 "metadata": {
  "kernelspec": {
   "display_name": "Python 3",
   "language": "python",
   "name": "python3"
  },
  "language_info": {
   "codemirror_mode": {
    "name": "ipython",
    "version": 3
   },
   "file_extension": ".py",
   "mimetype": "text/x-python",
   "name": "python",
   "nbconvert_exporter": "python",
   "pygments_lexer": "ipython3",
   "version": "3.10.4"
  }
 },
 "nbformat": 4,
 "nbformat_minor": 2
}
