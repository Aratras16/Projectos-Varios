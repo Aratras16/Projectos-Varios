{
 "cells": [
  {
   "cell_type": "markdown",
   "id": "232ffe68",
   "metadata": {},
   "source": [
    "# Sum Square Difference"
   ]
  },
  {
   "cell_type": "markdown",
   "id": "6bc90039",
   "metadata": {},
   "source": [
    "<p>The sum of the squares of the first ten natural numbers is,</p>\n",
    "$$1^2 + 2^2 + ... + 10^2 = 385.$$\n",
    "<p>The square of the sum of the first ten natural numbers is,</p>\n",
    "$$(1 + 2 + ... + 10)^2 = 55^2 = 3025.$$\n",
    "<p>Hence the difference between the sum of the squares of the first ten natural numbers and the square of the sum is $3025 - 385 = 2640$.</p>\n",
    "<p>Find the difference between the sum of the squares of the first one hundred natural numbers and the square of the sum.</p>"
   ]
  },
  {
   "cell_type": "code",
   "execution_count": null,
   "id": "b2686a57",
   "metadata": {},
   "outputs": [],
   "source": [
    "def sum_of_squares(n):\n",
    "    if n == 1:\n",
    "        return 1\n",
    "    else:\n",
    "        return (n**2)+sum_of_squares(n-1)"
   ]
  },
  {
   "cell_type": "code",
   "execution_count": null,
   "id": "c1bed3d6",
   "metadata": {},
   "outputs": [],
   "source": [
    "sum_of_squares(10)"
   ]
  },
  {
   "cell_type": "code",
   "execution_count": null,
   "id": "7ea4d486",
   "metadata": {},
   "outputs": [],
   "source": [
    "def square_of_sum(n):\n",
    "    return int((n*(n+1)/2)**2)"
   ]
  },
  {
   "cell_type": "code",
   "execution_count": null,
   "id": "3b1a7eb2",
   "metadata": {},
   "outputs": [],
   "source": [
    "square_of_sum(10)"
   ]
  },
  {
   "cell_type": "code",
   "execution_count": null,
   "id": "1e361af1",
   "metadata": {},
   "outputs": [],
   "source": [
    "def sum_square_difference(n):\n",
    "    return square_of_sum(n)-sum_of_squares(n)"
   ]
  },
  {
   "cell_type": "code",
   "execution_count": null,
   "id": "537431af",
   "metadata": {},
   "outputs": [],
   "source": [
    "sum_square_difference(10)"
   ]
  },
  {
   "cell_type": "code",
   "execution_count": 8,
   "id": "2d84ff2c",
   "metadata": {},
   "outputs": [
    {
     "data": {
      "text/plain": [
       "25164150"
      ]
     },
     "execution_count": 8,
     "metadata": {},
     "output_type": "execute_result"
    }
   ],
   "source": [
    "sum_square_difference(100)"
   ]
  }
 ],
 "metadata": {
  "kernelspec": {
   "display_name": "Python 3 (ipykernel)",
   "language": "python",
   "name": "python3"
  },
  "language_info": {
   "codemirror_mode": {
    "name": "ipython",
    "version": 3
   },
   "file_extension": ".py",
   "mimetype": "text/x-python",
   "name": "python",
   "nbconvert_exporter": "python",
   "pygments_lexer": "ipython3",
   "version": "3.11.2"
  }
 },
 "nbformat": 4,
 "nbformat_minor": 5
}
