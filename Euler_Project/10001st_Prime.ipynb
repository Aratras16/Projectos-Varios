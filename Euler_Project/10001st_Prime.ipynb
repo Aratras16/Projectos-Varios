{
 "cells": [
  {
   "cell_type": "markdown",
   "id": "0a846b22",
   "metadata": {},
   "source": [
    "# 10001st Prime"
   ]
  },
  {
   "cell_type": "markdown",
   "id": "a091aac6",
   "metadata": {},
   "source": [
    "<p>By listing the first six prime numbers: $2, 3, 5, 7, 11$, and $13$, we can see that the $6$th prime is $13$.</p>\n",
    "<p>What is the $10\\,001$st prime number?</p>"
   ]
  },
  {
   "cell_type": "code",
   "execution_count": 11,
   "id": "f1b69473",
   "metadata": {},
   "outputs": [],
   "source": [
    "def prime_number(n):\n",
    "    for i in range(2,(n//2)+1):\n",
    "        if n%i == 0:\n",
    "            return False\n",
    "    else:\n",
    "        return True"
   ]
  },
  {
   "cell_type": "code",
   "execution_count": null,
   "id": "a58a95e0",
   "metadata": {},
   "outputs": [],
   "source": [
    "prime_number(2)"
   ]
  },
  {
   "cell_type": "code",
   "execution_count": 22,
   "id": "190cfc5b",
   "metadata": {},
   "outputs": [],
   "source": [
    "prime_numbers = []\n",
    "n = 2\n",
    "while len(prime_numbers)<10001:\n",
    "    if prime_number(n):\n",
    "        prime_numbers.append(n)\n",
    "    n+=1"
   ]
  },
  {
   "cell_type": "code",
   "execution_count": 23,
   "id": "ba5672ef",
   "metadata": {},
   "outputs": [
    {
     "data": {
      "text/plain": [
       "104743"
      ]
     },
     "execution_count": 23,
     "metadata": {},
     "output_type": "execute_result"
    }
   ],
   "source": [
    "prime_numbers[-1]"
   ]
  }
 ],
 "metadata": {
  "kernelspec": {
   "display_name": "Python 3 (ipykernel)",
   "language": "python",
   "name": "python3"
  },
  "language_info": {
   "codemirror_mode": {
    "name": "ipython",
    "version": 3
   },
   "file_extension": ".py",
   "mimetype": "text/x-python",
   "name": "python",
   "nbconvert_exporter": "python",
   "pygments_lexer": "ipython3",
   "version": "3.11.2"
  }
 },
 "nbformat": 4,
 "nbformat_minor": 5
}
