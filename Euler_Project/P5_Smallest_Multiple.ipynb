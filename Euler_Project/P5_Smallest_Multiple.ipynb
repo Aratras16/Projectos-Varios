{
 "cells": [
  {
   "cell_type": "markdown",
   "id": "e1da3f16",
   "metadata": {},
   "source": [
    "# Smallest Multiple"
   ]
  },
  {
   "cell_type": "markdown",
   "id": "899faa54",
   "metadata": {},
   "source": [
    "<p>$2520$ is the smallest number that can be divided by each of the numbers from $1$ to $10$ without any remainder.</p>\n",
    "<p>What is the smallest positive number that is <strong class=\"tooltip\">evenly divisible<span class=\"tooltiptext\">divisible with no remainder</span></strong> by all of the numbers from $1$ to $20$?</p>\n"
   ]
  },
  {
   "cell_type": "code",
   "execution_count": null,
   "id": "bd123d2b",
   "metadata": {},
   "outputs": [],
   "source": [
    "def evenly(n,z):\n",
    "    for i in range(1,z+1):\n",
    "        if n%i != 0:\n",
    "            return False\n",
    "    return True"
   ]
  },
  {
   "cell_type": "code",
   "execution_count": null,
   "id": "9fa2a287",
   "metadata": {},
   "outputs": [],
   "source": [
    "evenly(2520,10)"
   ]
  },
  {
   "cell_type": "code",
   "execution_count": 6,
   "id": "a1e5d5dc",
   "metadata": {},
   "outputs": [
    {
     "name": "stdout",
     "output_type": "stream",
     "text": [
      "232792560\n"
     ]
    }
   ],
   "source": [
    "for i in range(1,1000000000):\n",
    "    if evenly(i,20):\n",
    "        print(i)\n",
    "        break"
   ]
  },
  {
   "cell_type": "markdown",
   "id": "aa354eb2",
   "metadata": {},
   "source": [
    "La solucion tarda bastante tiempo hay alguna forma de reducir el tiempo"
   ]
  }
 ],
 "metadata": {
  "kernelspec": {
   "display_name": "Python 3 (ipykernel)",
   "language": "python",
   "name": "python3"
  },
  "language_info": {
   "codemirror_mode": {
    "name": "ipython",
    "version": 3
   },
   "file_extension": ".py",
   "mimetype": "text/x-python",
   "name": "python",
   "nbconvert_exporter": "python",
   "pygments_lexer": "ipython3",
   "version": "3.11.2"
  }
 },
 "nbformat": 4,
 "nbformat_minor": 5
}
