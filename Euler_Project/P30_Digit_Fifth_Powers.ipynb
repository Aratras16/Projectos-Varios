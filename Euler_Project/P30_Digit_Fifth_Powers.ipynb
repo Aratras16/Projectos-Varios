{
 "cells": [
  {
   "cell_type": "markdown",
   "metadata": {},
   "source": [
    "# Digit Fifht Powers"
   ]
  },
  {
   "cell_type": "markdown",
   "metadata": {},
   "source": [
    "Surprisingly there are only three numbers that can be written as the sum of fourth powers of their digits:\n",
    "\\begin{align}\n",
    "1634 &= 1^4 + 6^4 + 3^4 + 4^4\\\\\n",
    "8208 &= 8^4 + 2^4 + 0^4 + 8^4\\\\\n",
    "9474 &= 9^4 + 4^4 + 7^4 + 4^4\n",
    "\\end{align}\n",
    "As $1 = 1^4$ is not a sum it is not included.\n",
    "The sum of these numbers is $1634 + 8208 + 9474 = 19316$.\n",
    "<p>Find the sum of all the numbers that can be written as the sum of fifth powers of their digits.</p>\n"
   ]
  },
  {
   "cell_type": "code",
   "execution_count": 1,
   "metadata": {},
   "outputs": [],
   "source": [
    "def Sum_Of_Powers(num,power):\n",
    "    num = str(num)\n",
    "    sum = 0\n",
    "    for i in range(len(num)):\n",
    "        sum += int(num[i])**power\n",
    "    if sum == int(num):\n",
    "        return True\n",
    "    else:\n",
    "        return False\n"
   ]
  },
  {
   "cell_type": "code",
   "execution_count": 2,
   "metadata": {},
   "outputs": [],
   "source": [
    "fifth_powers = [i for i in range(2,10_000_000) if Sum_Of_Powers(i,5)]\n",
    "sum(fifth_powers)"
   ]
  }
 ],
 "metadata": {
  "kernelspec": {
   "display_name": "Python 3",
   "language": "python",
   "name": "python3"
  },
  "language_info": {
   "codemirror_mode": {
    "name": "ipython",
    "version": 3
   },
   "file_extension": ".py",
   "mimetype": "text/x-python",
   "name": "python",
   "nbconvert_exporter": "python",
   "pygments_lexer": "ipython3",
   "version": "3.10.4"
  }
 },
 "nbformat": 4,
 "nbformat_minor": 2
}
