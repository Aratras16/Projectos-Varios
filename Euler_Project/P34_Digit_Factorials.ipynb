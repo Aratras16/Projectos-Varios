{
 "cells": [
  {
   "cell_type": "markdown",
   "metadata": {},
   "source": [
    "# Digit Factorials"
   ]
  },
  {
   "cell_type": "markdown",
   "metadata": {},
   "source": [
    "$145$ is a curious number, as $1! + 4! + 5! = 1 + 24 + 120 = 145$.\n",
    "Find the sum of all numbers which are equal to the sum of the factorial of their digits.\n",
    "Note: As $1! = 1$ and $2! = 2$ are not sums they are not included.\n"
   ]
  },
  {
   "cell_type": "markdown",
   "metadata": {},
   "source": [
    "To encounter a reasonable upper-bound, we need to take into account the growth rete of the sum of factorials of an integer and compare it with the integer itself.\n",
    "$$9! = 362880$$\n",
    "$$6\\times 9! =2177280 \\text{ (6-digit number)}$$\n",
    "$$7\\times 9! =2540160 \\text{ (7-digit number)}$$\n",
    "$$8\\times 9! = 2903040 \\text{ (8-digit number)}$$\n",
    "In particular, the largest $7$-digit number maps to $2540160$, which is significantly less than the corresponding integer $9999999$ and the $8$-digit equivalent doesn't even reach the integer.\n",
    "So $7\\times 9!$ can be considered the upper-bound in a search such that anything higher exceed the sum of the digit factorials for that number.\n",
    "\n",
    "Also for a lower-bound we can consider the integers higher than $10$ to skip those numbers which are not valid such as $1!$ and $2!$.\n",
    "\n",
    "So our bounded range is $[10,7\\times 9!]$"
   ]
  },
  {
   "cell_type": "code",
   "execution_count": 34,
   "metadata": {},
   "outputs": [
    {
     "data": {
      "text/plain": [
       "40730"
      ]
     },
     "execution_count": 34,
     "metadata": {},
     "output_type": "execute_result"
    }
   ],
   "source": [
    "from math import factorial as fact\n",
    "\n",
    "def findFactorialSum():\n",
    "    factorials = [fact(x) for x in range(0, 10)] # pre-calculate products\n",
    "    total_sum = 0\n",
    "    for k in range(10, fact(9) * 7): # 9999999 is way more than its fact-sum\n",
    "        if sum([factorials[int(x)] for x in str(k)]) == k:\n",
    "            total_sum+= k\n",
    "    return total_sum\n",
    "\n",
    "\n",
    "findFactorialSum()"
   ]
  }
 ],
 "metadata": {
  "kernelspec": {
   "display_name": "Python 3",
   "language": "python",
   "name": "python3"
  },
  "language_info": {
   "codemirror_mode": {
    "name": "ipython",
    "version": 3
   },
   "file_extension": ".py",
   "mimetype": "text/x-python",
   "name": "python",
   "nbconvert_exporter": "python",
   "pygments_lexer": "ipython3",
   "version": "3.10.4"
  }
 },
 "nbformat": 4,
 "nbformat_minor": 2
}
